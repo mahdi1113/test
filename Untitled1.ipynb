{
  "nbformat": 4,
  "nbformat_minor": 0,
  "metadata": {
    "colab": {
      "provenance": [],
      "toc_visible": true,
      "authorship_tag": "ABX9TyPdUlKeA4U9TiXteZ4FjmR8",
      "include_colab_link": true
    },
    "kernelspec": {
      "name": "python3",
      "display_name": "Python 3"
    },
    "language_info": {
      "name": "python"
    }
  },
  "cells": [
    {
      "cell_type": "markdown",
      "metadata": {
        "id": "view-in-github",
        "colab_type": "text"
      },
      "source": [
        "<a href=\"https://colab.research.google.com/github/mahdi1113/test/blob/master/Untitled1.ipynb\" target=\"_parent\"><img src=\"https://colab.research.google.com/assets/colab-badge.svg\" alt=\"Open In Colab\"/></a>"
      ]
    },
    {
      "cell_type": "code",
      "execution_count": null,
      "metadata": {
        "colab": {
          "base_uri": "https://localhost:8080/"
        },
        "id": "XCAO2y-KvjAg",
        "outputId": "0f925c87-9ff3-4c13-caef-e9c56c6be9bd"
      },
      "outputs": [
        {
          "output_type": "stream",
          "name": "stdout",
          "text": [
            "hi world\n",
            "this is for test\n"
          ]
        }
      ],
      "source": [
        "print('hi world')\n",
        "print('this is for test')"
      ]
    },
    {
      "cell_type": "code",
      "source": [
        "pip install pandas"
      ],
      "metadata": {
        "id": "3XeD3kQO8Brl",
        "outputId": "e248dcf1-8b3d-4bb6-988d-cdd8090a3e64",
        "colab": {
          "base_uri": "https://localhost:8080/"
        }
      },
      "execution_count": 1,
      "outputs": [
        {
          "output_type": "stream",
          "name": "stdout",
          "text": [
            "Requirement already satisfied: pandas in /usr/local/lib/python3.10/dist-packages (2.0.3)\n",
            "Requirement already satisfied: python-dateutil>=2.8.2 in /usr/local/lib/python3.10/dist-packages (from pandas) (2.8.2)\n",
            "Requirement already satisfied: pytz>=2020.1 in /usr/local/lib/python3.10/dist-packages (from pandas) (2023.4)\n",
            "Requirement already satisfied: tzdata>=2022.1 in /usr/local/lib/python3.10/dist-packages (from pandas) (2024.1)\n",
            "Requirement already satisfied: numpy>=1.21.0 in /usr/local/lib/python3.10/dist-packages (from pandas) (1.25.2)\n",
            "Requirement already satisfied: six>=1.5 in /usr/local/lib/python3.10/dist-packages (from python-dateutil>=2.8.2->pandas) (1.16.0)\n"
          ]
        }
      ]
    },
    {
      "cell_type": "code",
      "source": [
        "import pandas as pd\n",
        "import os\n",
        "\n",
        "# مسیر پوشه حاوی فایل‌های CSV\n",
        "folder_path = './excel'\n",
        "\n",
        "# لیست تمام فایل‌های CSV در پوشه\n",
        "csv_files = [f for f in os.listdir(folder_path) if f.endswith('.csv')]\n",
        "\n",
        "# نام ستون جدید و مقداری که می‌خواهید به تمام ردیف‌ها اضافه کنید\n",
        "new_column_name = 'label'\n",
        "new_column_value = 1  # یا هر مقدار دلخواهی که می‌خواهید\n",
        "\n",
        "for file_name in csv_files:\n",
        "    file_path = os.path.join(folder_path, file_name)\n",
        "    # خواندن فایل CSV به کمک Pandas\n",
        "    df = pd.read_csv(file_path)\n",
        "    # اضافه کردن ستون جدید با مقدار مورد نظر به DataFrame\n",
        "    df[new_column_name] = new_column_value\n",
        "    # ذخیره DataFrame به صورت CSV با نام مشابه\n",
        "    df.to_csv(file_path, index=False)"
      ],
      "metadata": {
        "id": "K0FUwkV78OB6"
      },
      "execution_count": 4,
      "outputs": []
    },
    {
      "cell_type": "code",
      "source": [
        "import pandas as pd\n",
        "import os\n",
        "\n",
        "# مسیر پوشه حاوی فایل‌های CSV\n",
        "folder_path = '/content/excel'\n",
        "\n",
        "# لیست تمام فایل‌های CSV در پوشه\n",
        "csv_files = [f for f in os.listdir(folder_path) if f.endswith('.csv')]\n",
        "\n",
        "# خواندن هر فایل CSV و تبدیل آن به فرمت DataFrame\n",
        "dataframes = []\n",
        "for file_name in csv_files:\n",
        "    file_path = os.path.join(folder_path, file_name)\n",
        "    df = pd.read_csv(file_path)\n",
        "    dataframes.append(df)\n",
        "\n",
        "# ترکیب تمام DataFrame ها به یک DataFrame واحد\n",
        "combined_df = pd.concat(dataframes, ignore_index=True)\n",
        "\n",
        "# نمایش تمام DataFrame\n",
        "print(combined_df)\n"
      ],
      "metadata": {
        "colab": {
          "base_uri": "https://localhost:8080/"
        },
        "id": "1Piuq0utDuHl",
        "outputId": "1ebdcfb3-db2d-4804-ef2a-c569f2a4c32a"
      },
      "execution_count": 6,
      "outputs": [
        {
          "output_type": "stream",
          "name": "stdout",
          "text": [
            "       TIME      SPEED  BREAKS  BREAKING  HORNS  WHEELROTATION  ACCELERATING  \\\n",
            "0      0.00   0.000000       0         0      0       0.000000             0   \n",
            "1      0.05   0.000000       0         0      0       0.000000             0   \n",
            "2      0.10   0.000000       0         0      0       0.000000             0   \n",
            "3      0.15   0.000000       0         0      0       0.000000             0   \n",
            "4      0.20   0.000000       0         0      0       0.000000             0   \n",
            "...     ...        ...     ...       ...    ...            ...           ...   \n",
            "5719  25.60  61.472205       0         0      0      10.740023             1   \n",
            "5720  25.65  61.472205       0         0      0      10.740023             1   \n",
            "5721  25.70  61.763777       0         0      0      11.255100             1   \n",
            "5722  25.75  61.763777       0         0      0      11.255100             1   \n",
            "5723  25.80  61.763777       0         0      0      11.255100             1   \n",
            "\n",
            "      label  \n",
            "0         1  \n",
            "1         1  \n",
            "2         1  \n",
            "3         1  \n",
            "4         1  \n",
            "...     ...  \n",
            "5719      1  \n",
            "5720      1  \n",
            "5721      1  \n",
            "5722      1  \n",
            "5723      1  \n",
            "\n",
            "[5724 rows x 8 columns]\n"
          ]
        }
      ]
    },
    {
      "cell_type": "code",
      "source": [
        "import tensorflow as tf\n",
        "from tensorflow.keras import layers, models\n",
        "\n",
        "num_epochs = 10  # تعیین تعداد دوره‌های آموزش\n",
        "\n",
        "# معماری مدل CNN\n",
        "model = models.Sequential([\n",
        "    layers.Input(shape=(7,)),  # تعیین ابعاد ورودی (7 ویژگی)\n",
        "    layers.Reshape(target_shape=(7, 1)),  # تغییر ابعاد به (7, 1) برای ورودی به شبکه عصبی کانولوشنی\n",
        "    layers.ZeroPadding1D(padding=1),  # اضافه کردن صفر به لبه‌های ورودی برای رفع مشکل ابعاد\n",
        "    layers.Conv1D(32, 3, activation='relu'),  # لایه کانولوشنی با 32 فیلتر و اندازه 3\n",
        "    layers.MaxPooling1D(1),  # لایه MaxPooling برای کاهش ابعاد\n",
        "    layers.Conv1D(64, 3, activation='relu'),  # لایه کانولوشنی با 64 فیلتر و اندازه 3\n",
        "    layers.MaxPooling1D(1),  # لایه MaxPooling دوباره\n",
        "    layers.Flatten(),  # تبدیل خروجی به بردار یک بعدی\n",
        "    layers.Dense(64, activation='relu'),  # لایه Fully Connected با 64 نورون\n",
        "    layers.Dense(3, activation='softmax')  # لایه خروجی با تابع فعال‌سازی softmax برای دسته‌بندی 3 کلاس\n",
        "])\n",
        "\n",
        "# compile مدل با استفاده از optimizer و loss function مناسب\n",
        "model.compile(optimizer='adam', loss='sparse_categorical_crossentropy', metrics=['accuracy'])\n",
        "\n",
        "# استخراج ویژگی‌ها و برچسب‌ها از DataFrame\n",
        "X = combined_df[['TIME', 'SPEED', 'BREAKS', 'BREAKING', 'HORNS', 'WHEELROTATION', 'ACCELERATING']].values\n",
        "y = combined_df['label'].values\n",
        "\n",
        "# ایجاد ورودی‌های داده‌ها به شکلی که مدل بتواند بپذیرد\n",
        "X = X.reshape(-1, 7, 1)  # تغییر ابعاد به (تعداد داده‌ها، تعداد ویژگی‌ها، 1)\n",
        "\n",
        "# آموزش مدل با داده‌های آموزشی\n",
        "history = model.fit(X, y, epochs=num_epochs, validation_split=0.2)\n",
        "\n",
        "# نمایش اطلاعات مدل\n",
        "model.summary()\n"
      ],
      "metadata": {
        "colab": {
          "base_uri": "https://localhost:8080/"
        },
        "id": "Hu4LkyYuFfFw",
        "outputId": "76ecdbd7-45b9-49bb-f9ed-6f5a053f3019"
      },
      "execution_count": 19,
      "outputs": [
        {
          "output_type": "stream",
          "name": "stdout",
          "text": [
            "Epoch 1/10\n",
            "144/144 [==============================] - 3s 10ms/step - loss: 0.0492 - accuracy: 0.9873 - val_loss: 3.3541e-04 - val_accuracy: 1.0000\n",
            "Epoch 2/10\n",
            "144/144 [==============================] - 1s 7ms/step - loss: 7.5290e-05 - accuracy: 1.0000 - val_loss: 6.0786e-05 - val_accuracy: 1.0000\n",
            "Epoch 3/10\n",
            "144/144 [==============================] - 1s 5ms/step - loss: 1.9792e-05 - accuracy: 1.0000 - val_loss: 2.4564e-05 - val_accuracy: 1.0000\n",
            "Epoch 4/10\n",
            "144/144 [==============================] - 1s 5ms/step - loss: 8.8196e-06 - accuracy: 1.0000 - val_loss: 1.2678e-05 - val_accuracy: 1.0000\n",
            "Epoch 5/10\n",
            "144/144 [==============================] - 1s 4ms/step - loss: 4.9342e-06 - accuracy: 1.0000 - val_loss: 7.5216e-06 - val_accuracy: 1.0000\n",
            "Epoch 6/10\n",
            "144/144 [==============================] - 1s 4ms/step - loss: 3.1069e-06 - accuracy: 1.0000 - val_loss: 5.0441e-06 - val_accuracy: 1.0000\n",
            "Epoch 7/10\n",
            "144/144 [==============================] - 1s 4ms/step - loss: 2.1168e-06 - accuracy: 1.0000 - val_loss: 3.5296e-06 - val_accuracy: 1.0000\n",
            "Epoch 8/10\n",
            "144/144 [==============================] - 1s 5ms/step - loss: 1.5205e-06 - accuracy: 1.0000 - val_loss: 2.5931e-06 - val_accuracy: 1.0000\n",
            "Epoch 9/10\n",
            "144/144 [==============================] - 1s 4ms/step - loss: 1.1369e-06 - accuracy: 1.0000 - val_loss: 1.9680e-06 - val_accuracy: 1.0000\n",
            "Epoch 10/10\n",
            "144/144 [==============================] - 1s 4ms/step - loss: 8.7653e-07 - accuracy: 1.0000 - val_loss: 1.5369e-06 - val_accuracy: 1.0000\n",
            "Model: \"sequential_12\"\n",
            "_________________________________________________________________\n",
            " Layer (type)                Output Shape              Param #   \n",
            "=================================================================\n",
            " reshape_12 (Reshape)        (None, 7, 1)              0         \n",
            "                                                                 \n",
            " zero_padding1d_6 (ZeroPadd  (None, 9, 1)              0         \n",
            " ing1D)                                                          \n",
            "                                                                 \n",
            " conv1d_24 (Conv1D)          (None, 7, 32)             128       \n",
            "                                                                 \n",
            " max_pooling1d_24 (MaxPooli  (None, 7, 32)             0         \n",
            " ng1D)                                                           \n",
            "                                                                 \n",
            " conv1d_25 (Conv1D)          (None, 5, 64)             6208      \n",
            "                                                                 \n",
            " max_pooling1d_25 (MaxPooli  (None, 5, 64)             0         \n",
            " ng1D)                                                           \n",
            "                                                                 \n",
            " flatten_12 (Flatten)        (None, 320)               0         \n",
            "                                                                 \n",
            " dense_24 (Dense)            (None, 64)                20544     \n",
            "                                                                 \n",
            " dense_25 (Dense)            (None, 3)                 195       \n",
            "                                                                 \n",
            "=================================================================\n",
            "Total params: 27075 (105.76 KB)\n",
            "Trainable params: 27075 (105.76 KB)\n",
            "Non-trainable params: 0 (0.00 Byte)\n",
            "_________________________________________________________________\n"
          ]
        }
      ]
    },
    {
      "cell_type": "code",
      "source": [
        "import tensorflow as tf\n",
        "from tensorflow.keras.models import load_model\n",
        "import pandas as pd\n",
        "import numpy as np\n",
        "\n",
        "# بارگیری مدل\n",
        "model = load_model(\"model\")\n",
        "\n",
        "# خواندن داده‌های CSV\n",
        "test_data = pd.read_csv(\"path_to_your_test_file.csv\")\n",
        "\n",
        "# استخراج ویژگی‌ها از داده‌های تست\n",
        "X_test = test_data[['TIME', 'SPEED', 'BREAKS', 'BREAKING', 'HORNS', 'WHEELROTATION', 'ACCELERATING']].values\n",
        "\n",
        "# تغییر ابعاد به شکلی که مدل بتواند بپذیرد\n",
        "X_test = X_test.reshape(-1, 7, 1)\n",
        "\n",
        "# پیش‌بینی‌های مدل بر روی داده‌های تست\n",
        "predictions = model.predict(X_test)\n",
        "\n",
        "# نمایش پیش‌بینی‌ها\n",
        "print(predictions)\n"
      ],
      "metadata": {
        "id": "ntA5ErD7WpKf",
        "outputId": "d3decce4-ebcd-4087-849f-f6d58f9e9d70",
        "colab": {
          "base_uri": "https://localhost:8080/",
          "height": 356
        }
      },
      "execution_count": 23,
      "outputs": [
        {
          "output_type": "error",
          "ename": "OSError",
          "evalue": "No file or directory found at model",
          "traceback": [
            "\u001b[0;31m---------------------------------------------------------------------------\u001b[0m",
            "\u001b[0;31mOSError\u001b[0m                                   Traceback (most recent call last)",
            "\u001b[0;32m<ipython-input-23-ad55a23790b4>\u001b[0m in \u001b[0;36m<cell line: 7>\u001b[0;34m()\u001b[0m\n\u001b[1;32m      5\u001b[0m \u001b[0;34m\u001b[0m\u001b[0m\n\u001b[1;32m      6\u001b[0m \u001b[0;31m# بارگیری مدل\u001b[0m\u001b[0;34m\u001b[0m\u001b[0;34m\u001b[0m\u001b[0m\n\u001b[0;32m----> 7\u001b[0;31m \u001b[0mmodel\u001b[0m \u001b[0;34m=\u001b[0m \u001b[0mload_model\u001b[0m\u001b[0;34m(\u001b[0m\u001b[0;34m\"model\"\u001b[0m\u001b[0;34m)\u001b[0m\u001b[0;34m\u001b[0m\u001b[0;34m\u001b[0m\u001b[0m\n\u001b[0m\u001b[1;32m      8\u001b[0m \u001b[0;34m\u001b[0m\u001b[0m\n\u001b[1;32m      9\u001b[0m \u001b[0;31m# خواندن داده‌های CSV\u001b[0m\u001b[0;34m\u001b[0m\u001b[0;34m\u001b[0m\u001b[0m\n",
            "\u001b[0;32m/usr/local/lib/python3.10/dist-packages/keras/src/saving/saving_api.py\u001b[0m in \u001b[0;36mload_model\u001b[0;34m(filepath, custom_objects, compile, safe_mode, **kwargs)\u001b[0m\n\u001b[1;32m    260\u001b[0m \u001b[0;34m\u001b[0m\u001b[0m\n\u001b[1;32m    261\u001b[0m     \u001b[0;31m# Legacy case.\u001b[0m\u001b[0;34m\u001b[0m\u001b[0;34m\u001b[0m\u001b[0m\n\u001b[0;32m--> 262\u001b[0;31m     return legacy_sm_saving_lib.load_model(\n\u001b[0m\u001b[1;32m    263\u001b[0m         \u001b[0mfilepath\u001b[0m\u001b[0;34m,\u001b[0m \u001b[0mcustom_objects\u001b[0m\u001b[0;34m=\u001b[0m\u001b[0mcustom_objects\u001b[0m\u001b[0;34m,\u001b[0m \u001b[0mcompile\u001b[0m\u001b[0;34m=\u001b[0m\u001b[0mcompile\u001b[0m\u001b[0;34m,\u001b[0m \u001b[0;34m**\u001b[0m\u001b[0mkwargs\u001b[0m\u001b[0;34m\u001b[0m\u001b[0;34m\u001b[0m\u001b[0m\n\u001b[1;32m    264\u001b[0m     )\n",
            "\u001b[0;32m/usr/local/lib/python3.10/dist-packages/keras/src/utils/traceback_utils.py\u001b[0m in \u001b[0;36merror_handler\u001b[0;34m(*args, **kwargs)\u001b[0m\n\u001b[1;32m     68\u001b[0m             \u001b[0;31m# To get the full stack trace, call:\u001b[0m\u001b[0;34m\u001b[0m\u001b[0;34m\u001b[0m\u001b[0m\n\u001b[1;32m     69\u001b[0m             \u001b[0;31m# `tf.debugging.disable_traceback_filtering()`\u001b[0m\u001b[0;34m\u001b[0m\u001b[0;34m\u001b[0m\u001b[0m\n\u001b[0;32m---> 70\u001b[0;31m             \u001b[0;32mraise\u001b[0m \u001b[0me\u001b[0m\u001b[0;34m.\u001b[0m\u001b[0mwith_traceback\u001b[0m\u001b[0;34m(\u001b[0m\u001b[0mfiltered_tb\u001b[0m\u001b[0;34m)\u001b[0m \u001b[0;32mfrom\u001b[0m \u001b[0;32mNone\u001b[0m\u001b[0;34m\u001b[0m\u001b[0;34m\u001b[0m\u001b[0m\n\u001b[0m\u001b[1;32m     71\u001b[0m         \u001b[0;32mfinally\u001b[0m\u001b[0;34m:\u001b[0m\u001b[0;34m\u001b[0m\u001b[0;34m\u001b[0m\u001b[0m\n\u001b[1;32m     72\u001b[0m             \u001b[0;32mdel\u001b[0m \u001b[0mfiltered_tb\u001b[0m\u001b[0;34m\u001b[0m\u001b[0;34m\u001b[0m\u001b[0m\n",
            "\u001b[0;32m/usr/local/lib/python3.10/dist-packages/keras/src/saving/legacy/save.py\u001b[0m in \u001b[0;36mload_model\u001b[0;34m(filepath, custom_objects, compile, options)\u001b[0m\n\u001b[1;32m    232\u001b[0m                     \u001b[0;32mif\u001b[0m \u001b[0misinstance\u001b[0m\u001b[0;34m(\u001b[0m\u001b[0mfilepath_str\u001b[0m\u001b[0;34m,\u001b[0m \u001b[0mstr\u001b[0m\u001b[0;34m)\u001b[0m\u001b[0;34m:\u001b[0m\u001b[0;34m\u001b[0m\u001b[0;34m\u001b[0m\u001b[0m\n\u001b[1;32m    233\u001b[0m                         \u001b[0;32mif\u001b[0m \u001b[0;32mnot\u001b[0m \u001b[0mtf\u001b[0m\u001b[0;34m.\u001b[0m\u001b[0mio\u001b[0m\u001b[0;34m.\u001b[0m\u001b[0mgfile\u001b[0m\u001b[0;34m.\u001b[0m\u001b[0mexists\u001b[0m\u001b[0;34m(\u001b[0m\u001b[0mfilepath_str\u001b[0m\u001b[0;34m)\u001b[0m\u001b[0;34m:\u001b[0m\u001b[0;34m\u001b[0m\u001b[0;34m\u001b[0m\u001b[0m\n\u001b[0;32m--> 234\u001b[0;31m                             raise IOError(\n\u001b[0m\u001b[1;32m    235\u001b[0m                                 \u001b[0;34mf\"No file or directory found at {filepath_str}\"\u001b[0m\u001b[0;34m\u001b[0m\u001b[0;34m\u001b[0m\u001b[0m\n\u001b[1;32m    236\u001b[0m                             )\n",
            "\u001b[0;31mOSError\u001b[0m: No file or directory found at model"
          ]
        }
      ]
    }
  ]
}