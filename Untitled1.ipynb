{
  "nbformat": 4,
  "nbformat_minor": 0,
  "metadata": {
    "colab": {
      "provenance": [],
      "authorship_tag": "ABX9TyMGJ8KPMbopeSj461lkzM8P",
      "include_colab_link": true
    },
    "kernelspec": {
      "name": "python3",
      "display_name": "Python 3"
    },
    "language_info": {
      "name": "python"
    }
  },
  "cells": [
    {
      "cell_type": "markdown",
      "metadata": {
        "id": "view-in-github",
        "colab_type": "text"
      },
      "source": [
        "<a href=\"https://colab.research.google.com/github/mahdi1113/test/blob/master/Untitled1.ipynb\" target=\"_parent\"><img src=\"https://colab.research.google.com/assets/colab-badge.svg\" alt=\"Open In Colab\"/></a>"
      ]
    },
    {
      "cell_type": "code",
      "execution_count": 1,
      "metadata": {
        "colab": {
          "base_uri": "https://localhost:8080/"
        },
        "id": "XCAO2y-KvjAg",
        "outputId": "0f925c87-9ff3-4c13-caef-e9c56c6be9bd"
      },
      "outputs": [
        {
          "output_type": "stream",
          "name": "stdout",
          "text": [
            "hi world\n",
            "this is for test\n"
          ]
        }
      ],
      "source": [
        "print('hi world')\n",
        "print('this is for test')"
      ]
    },
    {
      "cell_type": "code",
      "source": [
        "pip install pandas"
      ],
      "metadata": {
        "id": "3XeD3kQO8Brl",
        "outputId": "f7ce7f23-5d86-4f8f-e6aa-ae9fc5c53c8b",
        "colab": {
          "base_uri": "https://localhost:8080/"
        }
      },
      "execution_count": 1,
      "outputs": [
        {
          "output_type": "stream",
          "name": "stdout",
          "text": [
            "Requirement already satisfied: pandas in /usr/local/lib/python3.10/dist-packages (2.0.3)\n",
            "Requirement already satisfied: python-dateutil>=2.8.2 in /usr/local/lib/python3.10/dist-packages (from pandas) (2.8.2)\n",
            "Requirement already satisfied: pytz>=2020.1 in /usr/local/lib/python3.10/dist-packages (from pandas) (2023.4)\n",
            "Requirement already satisfied: tzdata>=2022.1 in /usr/local/lib/python3.10/dist-packages (from pandas) (2024.1)\n",
            "Requirement already satisfied: numpy>=1.21.0 in /usr/local/lib/python3.10/dist-packages (from pandas) (1.25.2)\n",
            "Requirement already satisfied: six>=1.5 in /usr/local/lib/python3.10/dist-packages (from python-dateutil>=2.8.2->pandas) (1.16.0)\n"
          ]
        }
      ]
    },
    {
      "cell_type": "code",
      "source": [
        "import pandas as pd\n",
        "import os\n",
        "\n",
        "# مسیر پوشه حاوی فایل‌های CSV\n",
        "folder_path = '/excel'\n",
        "\n",
        "# لیست تمام فایل‌های CSV در پوشه\n",
        "csv_files = [f for f in os.listdir(folder_path) if f.endswith('.csv')]\n",
        "\n",
        "# نام ستون جدید و مقداری که می‌خواهید به تمام ردیف‌ها اضافه کنید\n",
        "new_column_name = 'label'\n",
        "new_column_value = 1  # یا هر مقدار دلخواهی که می‌خواهید\n",
        "\n",
        "for file_name in csv_files:\n",
        "    file_path = os.path.join(folder_path, file_name)\n",
        "    # خواندن فایل CSV به کمک Pandas\n",
        "    df = pd.read_csv(file_path)\n",
        "    # اضافه کردن ستون جدید با مقدار مورد نظر به DataFrame\n",
        "    df[new_column_name] = new_column_value\n",
        "    # ذخیره DataFrame به صورت CSV با نام مشابه\n",
        "    df.to_csv(file_path, index=False)"
      ],
      "metadata": {
        "id": "K0FUwkV78OB6"
      },
      "execution_count": 4,
      "outputs": []
    }
  ]
}